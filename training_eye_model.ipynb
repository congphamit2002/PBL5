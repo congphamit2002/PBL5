{
  "nbformat": 4,
  "nbformat_minor": 0,
  "metadata": {
    "colab": {
      "provenance": []
    },
    "kernelspec": {
      "name": "python3",
      "display_name": "Python 3"
    },
    "language_info": {
      "name": "python"
    },
    "gpuClass": "standard",
    "accelerator": "GPU"
  },
  "cells": [
    {
      "cell_type": "code",
      "execution_count": null,
      "metadata": {
        "id": "Q44ZnWE-aOlb"
      },
      "outputs": [],
      "source": [
        "import multiprocessing\n",
        "import argparse\n",
        "import dlib"
      ]
    },
    {
      "cell_type": "code",
      "source": [
        "from google.colab import drive\n",
        "drive.mount('/content/gdrive')"
      ],
      "metadata": {
        "colab": {
          "base_uri": "https://localhost:8080/"
        },
        "id": "DSDsbX2ze1ka",
        "outputId": "5f6c9cdc-3802-4579-8214-ef2007f75524"
      },
      "execution_count": null,
      "outputs": [
        {
          "output_type": "stream",
          "name": "stdout",
          "text": [
            "Drive already mounted at /content/gdrive; to attempt to forcibly remount, call drive.mount(\"/content/gdrive\", force_remount=True).\n"
          ]
        }
      ]
    },
    {
      "cell_type": "code",
      "source": [
        "print(\"[INFO] setting shape predictor options...\")\n",
        "options = dlib.shape_predictor_training_options()\n",
        "options.tree_depth = 4\n",
        "options.nu = 0.1\n",
        "options.cascade_depth = 15\n",
        "options.feature_pool_size = 400\n",
        "options.num_test_splits = 50\n",
        "options.oversampling_amount = 5\n",
        "options.oversampling_translation_jitter = 0.1\n",
        "options.be_verbose = True\n",
        "options.num_threads = multiprocessing.cpu_count()"
      ],
      "metadata": {
        "colab": {
          "base_uri": "https://localhost:8080/"
        },
        "id": "1V5DIupqk0sI",
        "outputId": "db45654f-5279-4e3f-f365-5198c01e2a96"
      },
      "execution_count": null,
      "outputs": [
        {
          "output_type": "stream",
          "name": "stdout",
          "text": [
            "[INFO] setting shape predictor options...\n"
          ]
        }
      ]
    },
    {
      "cell_type": "code",
      "source": [
        "# log our training options to the terminal\n",
        "print(\"[INFO] shape predictor options:\")\n",
        "print(options)"
      ],
      "metadata": {
        "colab": {
          "base_uri": "https://localhost:8080/"
        },
        "id": "iGD5_9o6lY_4",
        "outputId": "7c763f9f-92e3-4208-d2fc-1fa36e0e2646"
      },
      "execution_count": null,
      "outputs": [
        {
          "output_type": "stream",
          "name": "stdout",
          "text": [
            "[INFO] shape predictor options:\n",
            "shape_predictor_training_options(be_verbose=1, cascade_depth=15, tree_depth=4, num_trees_per_cascade_level=500, nu=0.1, oversampling_amount=5, oversampling_translation_jitter=0.1, feature_pool_size=400, lambda_param=0.1, num_test_splits=50, feature_pool_region_padding=0, random_seed=, num_threads=2, landmark_relative_padding_mode=1)\n"
          ]
        }
      ]
    },
    {
      "cell_type": "code",
      "source": [
        "%cp /content/gdrive/MyDrive/data_set_pbl5/ibug_300W_large_face_landmark_dataset.zip /content/datasetPBL5.zip"
      ],
      "metadata": {
        "id": "ztnz5mqQ_OQI"
      },
      "execution_count": null,
      "outputs": []
    },
    {
      "cell_type": "code",
      "source": [
        "!unzip /content/datasetPBL5.zip"
      ],
      "metadata": {
        "id": "pf588eHt_3yF"
      },
      "execution_count": null,
      "outputs": []
    },
    {
      "cell_type": "code",
      "source": [
        "# train the shape predictor\n",
        "print(\"[INFO] training shape predictor...\")\n",
        "dlib.train_shape_predictor('/content/ibug_300W_large_face_landmark_dataset/labels_ibug_300W_train_eyes.xml', '/content/gdrive/MyDrive/data_set_pbl5/ibug_300W_large_face_landmark_dataset/predictor/eye_predictor.dat', options)"
      ],
      "metadata": {
        "id": "Ky4b6xYwEC_P"
      },
      "execution_count": null,
      "outputs": []
    }
  ]
}